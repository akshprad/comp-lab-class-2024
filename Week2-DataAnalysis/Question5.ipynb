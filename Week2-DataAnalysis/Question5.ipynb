{
 "cells": [
  {
   "cell_type": "code",
   "execution_count": 2,
   "id": "cee22383-dbd9-4421-92eb-5e78ff049d97",
   "metadata": {},
   "outputs": [],
   "source": [
    "# 6) Make a jupyter notebook that uses mdtraj to\n",
    "# \ta) read in the ubiquitin structure\n",
    "# \tb) print the total number of hydrogen bonds\n",
    "# \tc) compute the number of helical amino acids"
   ]
  },
  {
   "cell_type": "code",
   "execution_count": 3,
   "id": "8fbb3eec-b517-4d0e-b5b3-7f48867b415a",
   "metadata": {},
   "outputs": [],
   "source": [
    "import mdtraj as md\n",
    "p = md.load_pdb('Data/1UBQ.pdb')"
   ]
  },
  {
   "cell_type": "code",
   "execution_count": 4,
   "id": "34c8c65f-d313-44b1-ab54-5d16cf8c8887",
   "metadata": {},
   "outputs": [
    {
     "name": "stdout",
     "output_type": "stream",
     "text": [
      "<mdtraj.Trajectory with 1 frames, 660 atoms, 134 residues, and unitcells>\n"
     ]
    }
   ],
   "source": [
    "print(p)"
   ]
  },
  {
   "cell_type": "code",
   "execution_count": 5,
   "id": "379be5ba-aa7a-4bb0-b2d3-fd86f3a2aa0a",
   "metadata": {},
   "outputs": [],
   "source": [
    "hbonds = md.baker_hubbard(p, freq=0.1, exclude_water=True, periodic=True, sidechain_only=False)\n"
   ]
  },
  {
   "cell_type": "code",
   "execution_count": 6,
   "id": "0f3e4533-eeb7-44d5-a5d6-2beb5c865042",
   "metadata": {},
   "outputs": [
    {
     "name": "stdout",
     "output_type": "stream",
     "text": [
      "Total number of hydrogen bonds: 0\n"
     ]
    }
   ],
   "source": [
    "print(f'Total number of hydrogen bonds: {len(hbonds)}')\n"
   ]
  },
  {
   "cell_type": "code",
   "execution_count": 7,
   "id": "7c957f0b-2a4f-456d-bf5c-12ad2845efa3",
   "metadata": {},
   "outputs": [
    {
     "name": "stdout",
     "output_type": "stream",
     "text": [
      "Number of helical amino acids: 0\n"
     ]
    }
   ],
   "source": [
    "# Compute the secondary structure using DSSP with simplified output\n",
    "secondary_structure = md.compute_dssp(p, simplified=True)\n",
    "\n",
    "# Convert the secondary structure array to a list\n",
    "secondary_structure_list = secondary_structure.tolist()\n",
    "\n",
    "# Count the number of helical residues ('H' in DSSP)\n",
    "num_helical_residues = sum(1 for ss in secondary_structure_list if ss == 'H')\n",
    "print(f'Number of helical amino acids: {num_helical_residues}')\n"
   ]
  },
  {
   "cell_type": "code",
   "execution_count": null,
   "id": "8f2fda78-23eb-405e-b950-e00095d688f6",
   "metadata": {},
   "outputs": [],
   "source": []
  }
 ],
 "metadata": {
  "kernelspec": {
   "display_name": "lab_env_2024",
   "language": "python",
   "name": "lab_env_2024"
  },
  "language_info": {
   "codemirror_mode": {
    "name": "ipython",
    "version": 3
   },
   "file_extension": ".py",
   "mimetype": "text/x-python",
   "name": "python",
   "nbconvert_exporter": "python",
   "pygments_lexer": "ipython3",
   "version": "3.9.12"
  }
 },
 "nbformat": 4,
 "nbformat_minor": 5
}
