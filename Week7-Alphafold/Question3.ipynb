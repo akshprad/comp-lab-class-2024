{
 "cells": [
  {
   "cell_type": "code",
   "execution_count": 2,
   "id": "626415f9-946d-46cb-93f6-1a43d2f2b984",
   "metadata": {},
   "outputs": [],
   "source": [
    "import mdtraj as md\n",
    "import numpy as np\n",
    "import matplotlib.pyplot as plt\n",
    "\n",
    "# Load models (adjust paths as necessary)\n",
    "models = [\n",
    "    # Load all models (adjust paths as necessary)\n",
    "    md.load(\"/home/ap8064/comp-lab-class/comp-lab-class-2024/Week7-Alphafold/Inputs/Art/test_5c7bb_unrelaxed_rank_001_alphafold2_ptm_model_4_seed_003.pdb\"),\n",
    "    md.load(\"/home/ap8064/comp-lab-class/comp-lab-class-2024/Week7-Alphafold/Inputs/Art/test_5c7bb_unrelaxed_rank_002_alphafold2_ptm_model_4_seed_005.pdb\"),\n",
    "    md.load(\"/home/ap8064/comp-lab-class/comp-lab-class-2024/Week7-Alphafold/Inputs/Art/test_5c7bb_unrelaxed_rank_003_alphafold2_ptm_model_3_seed_003.pdb\"),\n",
    "    md.load(\"/home/ap8064/comp-lab-class/comp-lab-class-2024/Week7-Alphafold/Inputs/Art/test_5c7bb_unrelaxed_rank_004_alphafold2_ptm_model_3_seed_005.pdb\"),\n",
    "    md.load(\"/home/ap8064/comp-lab-class/comp-lab-class-2024/Week7-Alphafold/Inputs/Art/test_5c7bb_unrelaxed_rank_005_alphafold2_ptm_model_4_seed_001.pdb\"),\n",
    "    md.load(\"/home/ap8064/comp-lab-class/comp-lab-class-2024/Week7-Alphafold/Inputs/Art/test_5c7bb_unrelaxed_rank_006_alphafold2_ptm_model_4_seed_002.pdb\"),\n",
    "    md.load(\"/home/ap8064/comp-lab-class/comp-lab-class-2024/Week7-Alphafold/Inputs/Art/test_5c7bb_unrelaxed_rank_007_alphafold2_ptm_model_4_seed_004.pdb\"),\n",
    "    md.load(\"/home/ap8064/comp-lab-class/comp-lab-class-2024/Week7-Alphafold/Inputs/Art/test_5c7bb_unrelaxed_rank_008_alphafold2_ptm_model_4_seed_006.pdb\"),\n",
    "    md.load(\"/home/ap8064/comp-lab-class/comp-lab-class-2024/Week7-Alphafold/Inputs/Art/test_5c7bb_unrelaxed_rank_009_alphafold2_ptm_model_3_seed_002.pdb\"),\n",
    "    md.load(\"/home/ap8064/comp-lab-class/comp-lab-class-2024/Week7-Alphafold/Inputs/Art/test_5c7bb_unrelaxed_rank_010_alphafold2_ptm_model_4_seed_000.pdb\"),\n",
    "    md.load(\"/home/ap8064/comp-lab-class/comp-lab-class-2024/Week7-Alphafold/Inputs/Art/test_5c7bb_unrelaxed_rank_011_alphafold2_ptm_model_3_seed_006.pdb\"),\n",
    "    md.load(\"/home/ap8064/comp-lab-class/comp-lab-class-2024/Week7-Alphafold/Inputs/Art/test_5c7bb_unrelaxed_rank_012_alphafold2_ptm_model_2_seed_000.pdb\"),\n",
    "    md.load(\"/home/ap8064/comp-lab-class/comp-lab-class-2024/Week7-Alphafold/Inputs/Art/test_5c7bb_unrelaxed_rank_013_alphafold2_ptm_model_4_seed_007.pdb\"),\n",
    "    md.load(\"/home/ap8064/comp-lab-class/comp-lab-class-2024/Week7-Alphafold/Inputs/Art/test_5c7bb_unrelaxed_rank_014_alphafold2_ptm_model_1_seed_002.pdb\"),\n",
    "    md.load(\"/home/ap8064/comp-lab-class/comp-lab-class-2024/Week7-Alphafold/Inputs/Art/test_5c7bb_unrelaxed_rank_015_alphafold2_ptm_model_1_seed_000.pdb\"),\n",
    "    md.load(\"/home/ap8064/comp-lab-class/comp-lab-class-2024/Week7-Alphafold/Inputs/Art/test_5c7bb_unrelaxed_rank_016_alphafold2_ptm_model_3_seed_001.pdb\"),\n",
    "    md.load(\"/home/ap8064/comp-lab-class/comp-lab-class-2024/Week7-Alphafold/Inputs/Art/test_5c7bb_unrelaxed_rank_017_alphafold2_ptm_model_2_seed_006.pdb\"),\n",
    "    md.load(\"/home/ap8064/comp-lab-class/comp-lab-class-2024/Week7-Alphafold/Inputs/Art/test_5c7bb_unrelaxed_rank_018_alphafold2_ptm_model_1_seed_003.pdb\"),\n",
    "    md.load(\"/home/ap8064/comp-lab-class/comp-lab-class-2024/Week7-Alphafold/Inputs/Art/test_5c7bb_unrelaxed_rank_019_alphafold2_ptm_model_3_seed_004.pdb\"),\n",
    "    md.load(\"/home/ap8064/comp-lab-class/comp-lab-class-2024/Week7-Alphafold/Inputs/Art/test_5c7bb_unrelaxed_rank_020_alphafold2_ptm_model_1_seed_004.pdb\"),\n",
    "    md.load(\"/home/ap8064/comp-lab-class/comp-lab-class-2024/Week7-Alphafold/Inputs/Art/test_5c7bb_unrelaxed_rank_021_alphafold2_ptm_model_3_seed_007.pdb\"),\n",
    "    md.load(\"/home/ap8064/comp-lab-class/comp-lab-class-2024/Week7-Alphafold/Inputs/Art/test_5c7bb_unrelaxed_rank_022_alphafold2_ptm_model_3_seed_000.pdb\"),\n",
    "    md.load(\"/home/ap8064/comp-lab-class/comp-lab-class-2024/Week7-Alphafold/Inputs/Art/test_5c7bb_unrelaxed_rank_023_alphafold2_ptm_model_2_seed_003.pdb\"),\n",
    "    md.load(\"/home/ap8064/comp-lab-class/comp-lab-class-2024/Week7-Alphafold/Inputs/Art/test_5c7bb_unrelaxed_rank_024_alphafold2_ptm_model_1_seed_001.pdb\"),\n",
    "    md.load(\"/home/ap8064/comp-lab-class/comp-lab-class-2024/Week7-Alphafold/Inputs/Art/test_5c7bb_unrelaxed_rank_025_alphafold2_ptm_model_1_seed_007.pdb\"),\n",
    "    md.load(\"/home/ap8064/comp-lab-class/comp-lab-class-2024/Week7-Alphafold/Inputs/Art/test_5c7bb_unrelaxed_rank_026_alphafold2_ptm_model_2_seed_004.pdb\"),\n",
    "    md.load(\"/home/ap8064/comp-lab-class/comp-lab-class-2024/Week7-Alphafold/Inputs/Art/test_5c7bb_unrelaxed_rank_027_alphafold2_ptm_model_5_seed_006.pdb\"),\n",
    "    md.load(\"/home/ap8064/comp-lab-class/comp-lab-class-2024/Week7-Alphafold/Inputs/Art/test_5c7bb_unrelaxed_rank_028_alphafold2_ptm_model_2_seed_007.pdb\"),\n",
    "    md.load(\"/home/ap8064/comp-lab-class/comp-lab-class-2024/Week7-Alphafold/Inputs/Art/test_5c7bb_unrelaxed_rank_029_alphafold2_ptm_model_1_seed_005.pdb\"),\n",
    "    md.load(\"/home/ap8064/comp-lab-class/comp-lab-class-2024/Week7-Alphafold/Inputs/Art/test_5c7bb_unrelaxed_rank_030_alphafold2_ptm_model_5_seed_000.pdb\"),\n",
    "    md.load(\"/home/ap8064/comp-lab-class/comp-lab-class-2024/Week7-Alphafold/Inputs/Art/test_5c7bb_unrelaxed_rank_031_alphafold2_ptm_model_2_seed_001.pdb\"),\n",
    "    md.load(\"/home/ap8064/comp-lab-class/comp-lab-class-2024/Week7-Alphafold/Inputs/Art/test_5c7bb_unrelaxed_rank_032_alphafold2_ptm_model_5_seed_005.pdb\"),\n",
    "    md.load(\"/home/ap8064/comp-lab-class/comp-lab-class-2024/Week7-Alphafold/Inputs/Art/test_5c7bb_unrelaxed_rank_033_alphafold2_ptm_model_5_seed_003.pdb\"),\n",
    "    md.load(\"/home/ap8064/comp-lab-class/comp-lab-class-2024/Week7-Alphafold/Inputs/Art/test_5c7bb_unrelaxed_rank_034_alphafold2_ptm_model_5_seed_004.pdb\"),\n",
    "    md.load(\"/home/ap8064/comp-lab-class/comp-lab-class-2024/Week7-Alphafold/Inputs/Art/test_5c7bb_unrelaxed_rank_035_alphafold2_ptm_model_1_seed_006.pdb\"),\n",
    "    md.load(\"/home/ap8064/comp-lab-class/comp-lab-class-2024/Week7-Alphafold/Inputs/Art/test_5c7bb_unrelaxed_rank_036_alphafold2_ptm_model_5_seed_002.pdb\"),\n",
    "    md.load(\"/home/ap8064/comp-lab-class/comp-lab-class-2024/Week7-Alphafold/Inputs/Art/test_5c7bb_unrelaxed_rank_037_alphafold2_ptm_model_5_seed_007.pdb\"),\n",
    "    md.load(\"/home/ap8064/comp-lab-class/comp-lab-class-2024/Week7-Alphafold/Inputs/Art/test_5c7bb_unrelaxed_rank_038_alphafold2_ptm_model_2_seed_002.pdb\"),\n",
    "    md.load(\"/home/ap8064/comp-lab-class/comp-lab-class-2024/Week7-Alphafold/Inputs/Art/test_5c7bb_unrelaxed_rank_039_alphafold2_ptm_model_5_seed_001.pdb\"),\n",
    "    md.load(\"/home/ap8064/comp-lab-class/comp-lab-class-2024/Week7-Alphafold/Inputs/Art/test_5c7bb_unrelaxed_rank_040_alphafold2_ptm_model_2_seed_005.pdb\")\n",
    "\n",
    "]\n",
    "\n",
    "# Combine all models into a single trajectory\n",
    "combined_traj = md.join(models)\n"
   ]
  },
  {
   "cell_type": "code",
   "execution_count": 3,
   "id": "993c2c5c-ed61-414e-b9e3-dc6e4821cd51",
   "metadata": {},
   "outputs": [],
   "source": [
    "# Superimpose all models to the first one\n",
    "ref_traj = models[0]\n",
    "for traj in models[1:]:\n",
    "    md.rmsd(traj, ref_traj, atom_indices=ref_traj.topology.select('backbone'))\n",
    "\n",
    "# Update combined trajectory with aligned coordinates\n",
    "for i, traj in enumerate(models[1:], start=1):\n",
    "    combined_traj.xyz[i] = md.rmsd(traj, ref_traj, atom_indices=ref_traj.topology.select('backbone'))\n"
   ]
  },
  {
   "cell_type": "code",
   "execution_count": 4,
   "id": "a7a2cd45-a487-434b-811f-cadcc80360ce",
   "metadata": {},
   "outputs": [],
   "source": [
    "# Calculate the RMSF for each residue\n",
    "rmsf = np.sqrt(np.mean(np.square(combined_traj.xyz - combined_traj.xyz.mean(axis=0)), axis=0))\n",
    "\n",
    "# Get the residue indices\n",
    "residue_indices = ref_traj.topology.residues\n",
    "residue_ids = np.array([residue.index for residue in residue_indices])\n"
   ]
  },
  {
   "cell_type": "code",
   "execution_count": 6,
   "id": "cf5b81af-9f2a-4205-af09-db9fafb4bdbf",
   "metadata": {},
   "outputs": [
    {
     "name": "stdout",
     "output_type": "stream",
     "text": [
      "residue_ids shape: 31\n",
      "rmsf shape: 258\n"
     ]
    }
   ],
   "source": [
    "print(f\"residue_ids shape: {len(residue_ids)}\")\n",
    "print(f\"rmsf shape: {len(rmsf)}\")\n"
   ]
  },
  {
   "cell_type": "code",
   "execution_count": 15,
   "id": "b0f90ca5-cd64-49f1-b9c6-25e40fcf2180",
   "metadata": {},
   "outputs": [
    {
     "ename": "IndexError",
     "evalue": "arrays used as indices must be of integer (or boolean) type",
     "output_type": "error",
     "traceback": [
      "\u001b[0;31m---------------------------------------------------------------------------\u001b[0m",
      "\u001b[0;31mIndexError\u001b[0m                                Traceback (most recent call last)",
      "Cell \u001b[0;32mIn[15], line 36\u001b[0m\n\u001b[1;32m     34\u001b[0m     atom_indices \u001b[38;5;241m=\u001b[39m topology\u001b[38;5;241m.\u001b[39mselect(\u001b[38;5;124mf\u001b[39m\u001b[38;5;124m'\u001b[39m\u001b[38;5;124mresidue \u001b[39m\u001b[38;5;132;01m{\u001b[39;00mres_idx\u001b[38;5;132;01m}\u001b[39;00m\u001b[38;5;124m'\u001b[39m)\n\u001b[1;32m     35\u001b[0m     \u001b[38;5;66;03m# Calculate average RMSF for this residue\u001b[39;00m\n\u001b[0;32m---> 36\u001b[0m     rmsf_per_residue[res_idx] \u001b[38;5;241m=\u001b[39m rmsf_per_atom[atom_indices]\u001b[38;5;241m.\u001b[39mmean()\n\u001b[1;32m     38\u001b[0m \u001b[38;5;66;03m# Get the residue indices\u001b[39;00m\n\u001b[1;32m     39\u001b[0m residue_ids \u001b[38;5;241m=\u001b[39m np\u001b[38;5;241m.\u001b[39marange(n_residues)\n",
      "\u001b[0;31mIndexError\u001b[0m: arrays used as indices must be of integer (or boolean) type"
     ]
    }
   ],
   "source": [
    "combined_xyz = []\n",
    "\n",
    "# Reference trajectory (first model)\n",
    "ref_traj = models[0]\n",
    "\n",
    "# Superimpose all models to the reference model and collect coordinates\n",
    "for traj in models:\n",
    "    # Align each model to the reference model\n",
    "    aligned_traj = traj.superpose(ref_traj)\n",
    "    combined_xyz.append(aligned_traj.xyz)\n",
    "\n",
    "# Convert list to numpy array for easier manipulation\n",
    "combined_xyz = np.array(combined_xyz)  # Shape will be (num_models, num_frames, num_atoms, 3)\n",
    "\n",
    "# Calculate RMSF (Root Mean Square Fluctuation)\n",
    "# Mean structure across models for all atoms\n",
    "mean_structure = combined_xyz.mean(axis=0)  # Shape will be (num_frames, num_atoms, 3)\n",
    "\n",
    "# Calculate the deviation from the mean structure\n",
    "deviation = combined_xyz - mean_structure[np.newaxis, ...]  # Shape: (num_models, num_frames, num_atoms, 3)\n",
    "\n",
    "# RMSF calculation: average over frames, then across models\n",
    "rmsf_per_atom = np.sqrt(np.mean(np.square(deviation), axis=(0, 1)))  # Shape will be (num_atoms, 3)\n",
    "\n",
    "# Calculate the RMSF per residue\n",
    "# Get residue topology and create an array for RMSF per residue\n",
    "topology = ref_traj.topology\n",
    "n_residues = topology.n_residues\n",
    "rmsf_per_residue = np.zeros(n_residues)\n",
    "\n",
    "# Loop over each residue to calculate the average RMSF for its atoms\n",
    "for res_idx in range(n_residues):\n",
    "    # Select all atoms for the current residue\n",
    "    atom_indices = topology.select(f'residue {res_idx}')\n",
    "    # Calculate average RMSF for this residue\n",
    "    rmsf_per_residue[res_idx] = rmsf_per_atom[atom_indices].mean()\n",
    "\n",
    "# Get the residue indices\n",
    "residue_ids = np.arange(n_residues)\n",
    "\n",
    "# Ensure shapes match\n",
    "print(\"Residue IDs shape:\", residue_ids.shape)\n",
    "print(\"RMSF per Residue shape:\", rmsf_per_residue.shape)\n",
    "\n",
    "# Plotting\n",
    "plt.figure(figsize=(10, 6))\n",
    "plt.plot(residue_ids, rmsf_per_residue, marker='o', linestyle='-')  # Use valid range\n",
    "plt.title('Root Mean Square Fluctuation (RMSF) per Residue')\n",
    "plt.xlabel('Residue ID')\n",
    "plt.ylabel('RMSF (nm)')\n",
    "plt.xticks(residue_ids)  # Set x-ticks to residue IDs\n",
    "plt.grid()\n",
    "plt.show()\n"
   ]
  },
  {
   "cell_type": "code",
   "execution_count": null,
   "id": "2e9d967e-7399-4dbe-8169-0dddcbf61ee5",
   "metadata": {},
   "outputs": [],
   "source": []
  }
 ],
 "metadata": {
  "kernelspec": {
   "display_name": "openmm_env_2024",
   "language": "python",
   "name": "openmm_env_2024"
  },
  "language_info": {
   "codemirror_mode": {
    "name": "ipython",
    "version": 3
   },
   "file_extension": ".py",
   "mimetype": "text/x-python",
   "name": "python",
   "nbconvert_exporter": "python",
   "pygments_lexer": "ipython3",
   "version": "3.12.2"
  }
 },
 "nbformat": 4,
 "nbformat_minor": 5
}
