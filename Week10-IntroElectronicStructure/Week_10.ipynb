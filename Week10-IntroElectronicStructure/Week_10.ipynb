{
 "cells": [
  {
   "cell_type": "code",
   "execution_count": 1,
   "id": "e6c0a8e0-ca45-4167-b72f-e881a2ab7549",
   "metadata": {},
   "outputs": [
    {
     "name": "stdout",
     "output_type": "stream",
     "text": [
      "CPU times: user 363 ms, sys: 97.1 ms, total: 461 ms\n",
      "Wall time: 2.87 s\n"
     ]
    }
   ],
   "source": [
    "%%time\n",
    "try:\n",
    "    import os, sys\n",
    "    sys.path.insert(1, os.path.abspath('/home/runner/work/psi4/psi4/code/objdir/stage//usr/local/psi4/lib/'))\n",
    "except ImportError:\n",
    "    pass\n",
    "\n",
    "# This is the important part\n",
    "import psi4"
   ]
  },
  {
   "cell_type": "code",
   "execution_count": 3,
   "id": "594c890a-e994-4bb4-9f92-8dcdd4de47f7",
   "metadata": {},
   "outputs": [
    {
     "name": "stdout",
     "output_type": "stream",
     "text": [
      "CPU times: user 1.17 ms, sys: 52 µs, total: 1.22 ms\n",
      "Wall time: 889 µs\n"
     ]
    },
    {
     "data": {
      "text/plain": [
       "PosixPath('output.dat')"
      ]
     },
     "execution_count": 3,
     "metadata": {},
     "output_type": "execute_result"
    }
   ],
   "source": [
    "%%time\n",
    "psi4.set_output_file('output.dat', False)\n"
   ]
  },
  {
   "cell_type": "code",
   "execution_count": 4,
   "id": "d9c8a095-a365-4d24-a4a5-6207f2d86d4e",
   "metadata": {},
   "outputs": [
    {
     "name": "stdout",
     "output_type": "stream",
     "text": [
      "CPU times: user 369 ms, sys: 47.2 ms, total: 417 ms\n",
      "Wall time: 1.01 s\n"
     ]
    },
    {
     "data": {
      "text/plain": [
       "-76.0266327350902"
      ]
     },
     "execution_count": 4,
     "metadata": {},
     "output_type": "execute_result"
    }
   ],
   "source": [
    "%%time\n",
    "#! Sample HF/cc-pVDZ H2O Computation\n",
    "\n",
    "psi4.set_memory('500 MB')\n",
    "\n",
    "h2o = psi4.geometry(\"\"\"\n",
    "O\n",
    "H 1 0.96\n",
    "H 1 0.96 2 104.5\n",
    "\"\"\")\n",
    "\n",
    "psi4.energy('scf/cc-pvdz')"
   ]
  },
  {
   "cell_type": "code",
   "execution_count": 5,
   "id": "61da9f23-f994-41b3-9ab0-b67ce1cb9d84",
   "metadata": {},
   "outputs": [
    {
     "name": "stdout",
     "output_type": "stream",
     "text": [
      "CPU times: user 275 ms, sys: 7.64 ms, total: 283 ms\n",
      "Wall time: 284 ms\n"
     ]
    },
    {
     "data": {
      "text/plain": [
       "-38.92533462893707"
      ]
     },
     "execution_count": 5,
     "metadata": {},
     "output_type": "execute_result"
    }
   ],
   "source": [
    "%%time\n",
    "#! Sample UHF/6-31G** CH2 Computation\n",
    "\n",
    "R = 1.075\n",
    "A = 133.93\n",
    "\n",
    "ch2 = psi4.geometry(\"\"\"\n",
    "0 3\n",
    "C\n",
    "H 1 {0}\n",
    "H 1 {0} 2 {1}\n",
    "\"\"\".format(R, A)\n",
    ")\n",
    "\n",
    "psi4.set_options({'reference': 'uhf'})\n",
    "psi4.energy('scf/6-31g**')"
   ]
  },
  {
   "cell_type": "code",
   "execution_count": 7,
   "id": "96b18a70-5433-40d4-857b-4991a8a1e1ea",
   "metadata": {},
   "outputs": [
    {
     "name": "stdout",
     "output_type": "stream",
     "text": [
      "Optimizer: Optimization complete!\n",
      "CPU times: user 824 ms, sys: 41 ms, total: 865 ms\n",
      "Wall time: 1.43 s\n"
     ]
    },
    {
     "data": {
      "text/plain": [
       "-76.02703272937481"
      ]
     },
     "execution_count": 7,
     "metadata": {},
     "output_type": "execute_result"
    }
   ],
   "source": [
    "%%time\n",
    "psi4.set_options({'reference': 'rhf'})\n",
    "psi4.optimize('scf/cc-pvdz', molecule=h2o)"
   ]
  },
  {
   "cell_type": "code",
   "execution_count": 10,
   "id": "98e9de98-d974-4e92-9079-b61a458148b8",
   "metadata": {},
   "outputs": [
    {
     "name": "stdout",
     "output_type": "stream",
     "text": [
      "CPU times: user 979 ms, sys: 43.7 ms, total: 1.02 s\n",
      "Wall time: 1.36 s\n"
     ]
    }
   ],
   "source": [
    "%%time\n",
    "scf_e, scf_wfn = psi4.frequency('scf/cc-pvdz', molecule=h2o, return_wfn=True)\n"
   ]
  },
  {
   "cell_type": "code",
   "execution_count": 11,
   "id": "4a5f9ec7-7ba5-42e3-83ce-e6786cd9c9e3",
   "metadata": {},
   "outputs": [
    {
     "name": "stdout",
     "output_type": "stream",
     "text": [
      "CPU times: user 1.11 ms, sys: 0 ns, total: 1.11 ms\n",
      "Wall time: 1.11 ms\n"
     ]
    }
   ],
   "source": [
    "%%time\n",
    "# Example SAPT computation for ethene*ethyne (*i.e.*, ethylene*acetylene).\n",
    "# Test case 16 from S22 Database\n",
    "\n",
    "dimer = psi4.geometry(\"\"\"\n",
    "0 1\n",
    "C   0.000000  -0.667578  -2.124659\n",
    "C   0.000000   0.667578  -2.124659\n",
    "H   0.923621  -1.232253  -2.126185\n",
    "H  -0.923621  -1.232253  -2.126185\n",
    "H  -0.923621   1.232253  -2.126185\n",
    "H   0.923621   1.232253  -2.126185\n",
    "--\n",
    "0 1\n",
    "C   0.000000   0.000000   2.900503\n",
    "C   0.000000   0.000000   1.693240\n",
    "H   0.000000   0.000000   0.627352\n",
    "H   0.000000   0.000000   3.963929\n",
    "units angstrom\n",
    "\"\"\")"
   ]
  },
  {
   "cell_type": "code",
   "execution_count": 12,
   "id": "ce306837-675f-4101-8fe8-c252cc8270be",
   "metadata": {},
   "outputs": [
    {
     "name": "stdout",
     "output_type": "stream",
     "text": [
      "CPU times: user 3.66 s, sys: 200 ms, total: 3.86 s\n",
      "Wall time: 4.16 s\n"
     ]
    },
    {
     "data": {
      "text/plain": [
       "-0.0022355823909805178"
      ]
     },
     "execution_count": 12,
     "metadata": {},
     "output_type": "execute_result"
    }
   ],
   "source": [
    "%%time\n",
    "psi4.set_options({'scf_type': 'df',\n",
    "                  'freeze_core': True})\n",
    "\n",
    "psi4.energy('sapt0/jun-cc-pvdz', molecule=dimer)"
   ]
  },
  {
   "cell_type": "code",
   "execution_count": 13,
   "id": "f260a183-bbbd-41e0-b89b-fb8eed4c30b9",
   "metadata": {},
   "outputs": [
    {
     "name": "stdout",
     "output_type": "stream",
     "text": [
      "/bin/bash: Example: command not found\n",
      "CP-corrected CCSD(T)/aug-cc-pVDZ Interaction Energies\n",
      "\n",
      "\n",
      "          R [Ang]                 E_int [kcal/mol]       \n",
      "---------------------------------------------------------\n",
      "            2.5                        0.758605\n",
      "            3.0                        0.015968\n",
      "            4.0                        -0.016215\n",
      "CPU times: user 5.46 s, sys: 1.39 s, total: 6.84 s\n",
      "Wall time: 12.9 s\n"
     ]
    }
   ],
   "source": [
    "%%time\n",
    "! Example potential energy surface scan and CP-correction for Ne2\n",
    "\n",
    "ne2_geometry = \"\"\"\n",
    "Ne\n",
    "--\n",
    "Ne 1 {0}\n",
    "\"\"\"\n",
    "\n",
    "Rvals = [2.5, 3.0, 4.0]\n",
    "\n",
    "psi4.set_options({'freeze_core': True})\n",
    "\n",
    "# Initialize a blank dictionary of counterpoise corrected energies\n",
    "# (Need this for the syntax below to work)\n",
    "\n",
    "ecp = {}\n",
    "\n",
    "for R in Rvals:\n",
    "    ne2 = psi4.geometry(ne2_geometry.format(R))\n",
    "    ecp[R] = psi4.energy('ccsd(t)/aug-cc-pvdz', bsse_type='cp', molecule=ne2)\n",
    "\n",
    "# Prints to screen\n",
    "print(\"CP-corrected CCSD(T)/aug-cc-pVDZ Interaction Energies\\n\\n\")\n",
    "print(\"          R [Ang]                 E_int [kcal/mol]       \")\n",
    "print(\"---------------------------------------------------------\")\n",
    "for R in Rvals:\n",
    "    e = ecp[R] * psi4.constants.hartree2kcalmol\n",
    "    print(\"            {:3.1f}                        {:1.6f}\".format(R, e))\n",
    "\n",
    "# Prints to output.dat\n",
    "psi4.core.print_out(\"CP-corrected CCSD(T)/aug-cc-pVDZ Interaction Energies\\n\\n\")\n",
    "psi4.core.print_out(\"          R [Ang]                 E_int [kcal/mol]       \\n\")\n",
    "psi4.core.print_out(\"---------------------------------------------------------\\n\")\n",
    "for R in Rvals:\n",
    "    e = ecp[R] * psi4.constants.hartree2kcalmol\n",
    "    psi4.core.print_out(\"            {:3.1f}                        {:1.6f}\\n\".format(R, e))"
   ]
  },
  {
   "cell_type": "code",
   "execution_count": 14,
   "id": "e6ce4c9c-9190-4f87-849d-ef0ffaa5f5a4",
   "metadata": {},
   "outputs": [
    {
     "name": "stdout",
     "output_type": "stream",
     "text": [
      "CPU times: user 303 ms, sys: 38.2 ms, total: 341 ms\n",
      "Wall time: 3.49 s\n"
     ]
    }
   ],
   "source": [
    "%%time\n",
    "import numpy as np\n",
    "import matplotlib.pyplot as plt\n",
    "import psi4\n",
    "from scipy.optimize import curve_fit\n",
    "\n"
   ]
  },
  {
   "cell_type": "code",
   "execution_count": 15,
   "id": "0c7a7dcf-e9fe-4fdd-ba15-d533575e66c4",
   "metadata": {},
   "outputs": [],
   "source": [
    "def lj(r, sigma, epsilon):\n",
    "    return 4 * epsilon * ( (sigma / r)**12 - (sigma / r)**6 )\n"
   ]
  },
  {
   "cell_type": "code",
   "execution_count": 18,
   "id": "aab5ce7b-9ba2-4dcd-ba76-4ab95f691628",
   "metadata": {},
   "outputs": [
    {
     "name": "stdout",
     "output_type": "stream",
     "text": [
      "CPU times: user 4.24 s, sys: 206 ms, total: 4.45 s\n",
      "Wall time: 4.51 s\n"
     ]
    }
   ],
   "source": [
    "%%time\n",
    "# Define the geometry and calculate energy for each distance\n",
    "for dist in distances:\n",
    "    molecule = psi4.geometry(f\"\"\"\n",
    "    Ar  0.0  0.0  0.0\n",
    "    Ar  0.0  0.0  {dist}\n",
    "    \"\"\")\n",
    "    \n",
    "    # Perform the calculation\n",
    "    psi4.set_options({'basis': 'cc-pvdz'})\n",
    "    energy = psi4.energy('scf')\n",
    "    energies.append(energy)\n"
   ]
  },
  {
   "cell_type": "code",
   "execution_count": 19,
   "id": "c75d35cd-7ae8-486b-bc4e-f06f6f070f2d",
   "metadata": {},
   "outputs": [
    {
     "name": "stdout",
     "output_type": "stream",
     "text": [
      "Fitted sigma: 3.409697289552608, Fitted epsilon: 1594.1601942891946\n"
     ]
    }
   ],
   "source": [
    "# Fit the energy data to the Lennard-Jones potential\n",
    "params, covariance = curve_fit(lj, distances, energies)\n",
    "\n",
    "# Extract the fitted parameters\n",
    "sigma_fit, epsilon_fit = params\n",
    "print(f\"Fitted sigma: {sigma_fit}, Fitted epsilon: {epsilon_fit}\")\n"
   ]
  },
  {
   "cell_type": "code",
   "execution_count": 22,
   "id": "9079749d-da0d-47ba-a701-df213af81725",
   "metadata": {},
   "outputs": [
    {
     "data": {
      "image/png": "[encoded data removed]",
      "text/plain": [
       "<Figure size 800x600 with 1 Axes>"
      ]
     },
     "metadata": {},
     "output_type": "display_data"
    }
   ],
   "source": [
    "# Create the plot\n",
    "plt.figure(figsize=(8, 6))\n",
    "\n",
    "# Plot the computed energies (dots)\n",
    "plt.plot(distances, energies, 'bo', label='Computed Energy')\n",
    "\n",
    "# Plot the fitted Lennard-Jones potential (dashed line)\n",
    "r_fit = np.linspace(3.5, 6.0, 100)\n",
    "energy_fit = lj(r_fit, *params)\n",
    "plt.plot(r_fit, energy_fit, 'r--', label=f'Lennard-Jones Fit\\n$\\sigma={sigma_fit:.2f}$, $\\epsilon={epsilon_fit:.2f}$')\n",
    "\n",
    "# Customize plot\n",
    "plt.xlabel('Distance (Å)')\n",
    "plt.ylabel('Energy (Hartree)')\n",
    "plt.title('Energy vs Distance for Argon Dimer')\n",
    "plt.legend()\n",
    "\n",
    "# Save the figure\n",
    "plt.savefig('argon_energy_vs_distance.png')\n",
    "\n",
    "# Show the plot\n",
    "plt.show()\n"
   ]
  },
  {
   "cell_type": "code",
   "execution_count": 23,
   "id": "f0d13b0f-a5ba-404b-b26a-d54a8dcafb71",
   "metadata": {},
   "outputs": [
    {
     "name": "stdout",
     "output_type": "stream",
     "text": [
      "[-1053.5988710417594, -1053.5995007864956, -1053.5996977594673, -1053.599743469443, -1053.5997458577256, -1053.5997413183636, -1053.5997383319673, -1053.5997371219514, -1053.5997367450627, -1053.5997366469767]\n"
     ]
    }
   ],
   "source": [
    "print(energies)\n"
   ]
  },
  {
   "cell_type": "code",
   "execution_count": 24,
   "id": "8da6c4b8-de46-43e8-a3eb-3587c56ed536",
   "metadata": {},
   "outputs": [],
   "source": [
    "# Conversion from Hartree to kcal/mol\n",
    "hartree_to_kcalmol = 627.509\n",
    "\n",
    "# After calculating the energy, convert to kcal/mol\n",
    "energies_kcalmol = [energy * hartree_to_kcalmol for energy in energies]\n"
   ]
  },
  {
   "cell_type": "code",
   "execution_count": 25,
   "id": "1f7ed79c-6520-492d-8f05-f87bac650e2e",
   "metadata": {},
   "outputs": [
    {
     "data": {
      "text/plain": [
       "[<matplotlib.lines.Line2D at 0x14d59a5b0550>]"
      ]
     },
     "execution_count": 25,
     "metadata": {},
     "output_type": "execute_result"
    },
    {
     "data": {
      "image/png": "[encoded data removed]",
      "text/plain": [
       "<Figure size 640x480 with 1 Axes>"
      ]
     },
     "metadata": {},
     "output_type": "display_data"
    }
   ],
   "source": [
    "plt.plot(distances, energies_kcalmol, 'bo', label='Computed Energy (kcal/mol)')\n"
   ]
  },
  {
   "cell_type": "code",
   "execution_count": 36,
   "id": "593cae26-67e8-4d7a-98c4-14162ad416fa",
   "metadata": {},
   "outputs": [
    {
     "name": "stdout",
     "output_type": "stream",
     "text": [
      "['/ext3/miniconda3/lib/python3.9/site-packages/ipykernel_launcher.py', '-f', '/home/ap8064/.local/share/jupyter/runtime/kernel-7223f755-7055-42f0-aaf7-076b6836990b.json']\n"
     ]
    }
   ],
   "source": [
    "import sys\n",
    "print(sys.argv)\n",
    "import time"
   ]
  },
  {
   "cell_type": "code",
   "execution_count": 38,
   "id": "80562057-4d85-4ccf-b7a7-7cd6055d4c72",
   "metadata": {},
   "outputs": [
    {
     "name": "stderr",
     "output_type": "stream",
     "text": [
      "UsageError: Line magic function `%%time` not found.\n"
     ]
    }
   ],
   "source": [
    "%%time\n",
    "\n",
    "import numpy as np\n",
    "import matplotlib.pyplot as plt\n",
    "import psi4\n",
    "from scipy.optimize import curve_fit\n",
    "\n",
    "# Lennard-Jones potential function\n",
    "def lj(r, sigma, epsilon):\n",
    "    return 4 * epsilon * ( (sigma / r)**12 - (sigma / r)**6 )\n",
    "\n",
    "# Timing the energy calculation loop\n",
    "%%time\n",
    "\n",
    "# Define distances and list to store energies\n",
    "distances = np.linspace(3.5, 6.0, 10)\n",
    "energies = []\n",
    "\n",
    "# Calculate energy for each distance\n",
    "for dist in distances:\n",
    "    molecule = psi4.geometry(f\"\"\"\n",
    "    Ar  0.0  0.0  0.0\n",
    "    Ar  0.0  0.0  {dist}\n",
    "    \"\"\")\n",
    "    \n",
    "    # Perform the calculation\n",
    "    psi4.set_options({'basis': 'cc-pvdz'})\n",
    "    energy = psi4.energy('scf')\n",
    "    energies.append(energy)\n",
    "\n",
    "# Convert energies to kcal/mol for better visualization\n",
    "energies_kcalmol = [energy * 627.509 for energy in energies]\n",
    "\n",
    "# Fit the energy data to the Lennard-Jones potential\n",
    "params, covariance = curve_fit(lj, distances, energies_kcalmol)\n",
    "\n",
    "# Extract fitted parameters\n",
    "sigma_fit, epsilon_fit = params\n",
    "print(f\"Fitted sigma: {sigma_fit}, Fitted epsilon: {epsilon_fit}\")\n",
    "\n",
    "# Plot the computed energies and the fitted curve\n",
    "plt.figure(figsize=(8, 6))\n",
    "plt.plot(distances, energies_kcalmol, 'bo', label='Computed Energy (kcal/mol)')\n",
    "r_fit = np.linspace(3.5, 6.0, 100)\n",
    "energy_fit = lj(r_fit, *params)\n",
    "plt.plot(r_fit, energy_fit, 'r--', label=f'Lennard-Jones Fit\\n$\\sigma={sigma_fit:.2f}$, $\\epsilon={epsilon_fit:.2f}$')\n",
    "\n",
    "# Customize the plot\n",
    "plt.xlabel('Distance (Å)')\n",
    "plt.ylabel('Energy (kcal/mol)')\n",
    "plt.title('Energy vs Distance for Argon Dimer')\n",
    "plt.legend()\n",
    "\n",
    "# Save the figure\n",
    "plt.savefig('argon_energy_vs_distance.png')\n",
    "\n",
    "# Show the plot\n",
    "plt.show()\n"
   ]
  },
  {
   "cell_type": "code",
   "execution_count": 39,
   "id": "079ca91b-cf08-4154-98cf-e8c2d984039f",
   "metadata": {},
   "outputs": [
    {
     "name": "stdout",
     "output_type": "stream",
     "text": [
      "455 ms ± 7.43 ms per loop (mean ± std. dev. of 7 runs, 1 loop each)\n",
      "CPU times: user 3.3 s, sys: 308 ms, total: 3.61 s\n",
      "Wall time: 3.66 s\n"
     ]
    }
   ],
   "source": [
    "%%time\n",
    "a = sum(range(100000))\n",
    "%timeit psi4.energy('scf')\n"
   ]
  },
  {
   "cell_type": "code",
   "execution_count": null,
   "id": "d9c063f6-a47f-417d-bb51-eaa3a883abe1",
   "metadata": {},
   "outputs": [],
   "source": []
  }
 ],
 "metadata": {
  "kernelspec": {
   "display_name": "lab_env_2024",
   "language": "python",
   "name": "lab_env_2024"
  },
  "language_info": {
   "codemirror_mode": {
    "name": "ipython",
    "version": 3
   },
   "file_extension": ".py",
   "mimetype": "text/x-python",
   "name": "python",
   "nbconvert_exporter": "python",
   "pygments_lexer": "ipython3",
   "version": "3.9.12"
  }
 },
 "nbformat": 4,
 "nbformat_minor": 5
}
